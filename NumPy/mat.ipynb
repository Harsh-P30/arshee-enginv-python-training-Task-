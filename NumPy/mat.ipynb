{
 "cells": [
  {
   "cell_type": "code",
   "execution_count": 2,
   "id": "5723638d",
   "metadata": {},
   "outputs": [],
   "source": [
    "import scipy.io"
   ]
  },
  {
   "cell_type": "code",
   "execution_count": 3,
   "id": "a731fd0c",
   "metadata": {},
   "outputs": [],
   "source": [
    "mat = scipy.io.loadmat('a_x_330i_320_50kmh.mat')\n"
   ]
  },
  {
   "cell_type": "code",
   "execution_count": 4,
   "id": "483019fd",
   "metadata": {},
   "outputs": [
    {
     "data": {
      "text/plain": [
       "dict_items([('__header__', b'MATLAB 5.0 MAT-file, Platform: PCWIN64, Created on: Mon Aug 27 16:16:06 2018'), ('__version__', '1.0'), ('__globals__', []), ('a_x_330i_320_50kmh', array([[0.0568377],\n",
       "       [0.0548934],\n",
       "       [0.0527766],\n",
       "       ...,\n",
       "       [0.0274262],\n",
       "       [0.0282654],\n",
       "       [0.0290849]], shape=(60001, 1)))])"
      ]
     },
     "execution_count": 4,
     "metadata": {},
     "output_type": "execute_result"
    }
   ],
   "source": [
    "mat.items()\n"
   ]
  },
  {
   "cell_type": "code",
   "execution_count": 11,
   "id": "9696051b",
   "metadata": {},
   "outputs": [
    {
     "data": {
      "text/plain": [
       "dict_values([b'MATLAB 5.0 MAT-file, Platform: PCWIN64, Created on: Mon Aug 27 16:16:06 2018', '1.0', [], array([[0.0568377],\n",
       "       [0.0548934],\n",
       "       [0.0527766],\n",
       "       ...,\n",
       "       [0.0274262],\n",
       "       [0.0282654],\n",
       "       [0.0290849]], shape=(60001, 1))])"
      ]
     },
     "execution_count": 11,
     "metadata": {},
     "output_type": "execute_result"
    }
   ],
   "source": [
    "mat.values()\n",
    "\n"
   ]
  }
 ],
 "metadata": {
  "kernelspec": {
   "display_name": "venv",
   "language": "python",
   "name": "python3"
  },
  "language_info": {
   "codemirror_mode": {
    "name": "ipython",
    "version": 3
   },
   "file_extension": ".py",
   "mimetype": "text/x-python",
   "name": "python",
   "nbconvert_exporter": "python",
   "pygments_lexer": "ipython3",
   "version": "3.13.7"
  }
 },
 "nbformat": 4,
 "nbformat_minor": 5
}
