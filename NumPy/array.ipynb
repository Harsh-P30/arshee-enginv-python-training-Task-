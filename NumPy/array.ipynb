{
 "cells": [
  {
   "cell_type": "code",
   "execution_count": 3,
   "id": "00382db2",
   "metadata": {},
   "outputs": [],
   "source": [
    "import numpy as np"
   ]
  },
  {
   "cell_type": "code",
   "execution_count": 17,
   "id": "bb13a18e",
   "metadata": {},
   "outputs": [
    {
     "name": "stdout",
     "output_type": "stream",
     "text": [
      "1D array [12  3  4  5  3  2]\n"
     ]
    }
   ],
   "source": [
    "arr_1d = np.array([12,3,4,5,3,2])\n",
    "print(\"1D array\", arr_1d)"
   ]
  },
  {
   "cell_type": "code",
   "execution_count": 18,
   "id": "8b58ace6",
   "metadata": {},
   "outputs": [
    {
     "name": "stdout",
     "output_type": "stream",
     "text": [
      "2d array:\n",
      " [[1 2 3 4]\n",
      " [2 3 4 5]]\n"
     ]
    }
   ],
   "source": [
    "arr_2d = np.array([[1,2,3,4],[2,3,4,5]])\n",
    "print(\"2d array:\\n\" ,arr_2d)"
   ]
  },
  {
   "cell_type": "code",
   "execution_count": 19,
   "id": "07252344",
   "metadata": {},
   "outputs": [
    {
     "name": "stdout",
     "output_type": "stream",
     "text": [
      "[[1 2 3 4]\n",
      " [2 3 4 5]]\n"
     ]
    }
   ],
   "source": [
    "print(arr_2d)"
   ]
  },
  {
   "cell_type": "code",
   "execution_count": 20,
   "id": "093edb5f",
   "metadata": {},
   "outputs": [
    {
     "name": "stdout",
     "output_type": "stream",
     "text": [
      "dimensions:  1\n",
      "dimensions:  2\n"
     ]
    }
   ],
   "source": [
    "print(\"dimensions: \",arr_1d.ndim)\n",
    "print(\"dimensions: \",arr_2d.ndim)"
   ]
  },
  {
   "cell_type": "code",
   "execution_count": 21,
   "id": "3d44b898",
   "metadata": {},
   "outputs": [
    {
     "name": "stdout",
     "output_type": "stream",
     "text": [
      "1\n",
      "2\n",
      "3\n",
      "4\n",
      "2\n",
      "3\n",
      "4\n",
      "5\n"
     ]
    }
   ],
   "source": [
    "for i in arr_2d.flat:\n",
    "    print(i)\n"
   ]
  },
  {
   "cell_type": "code",
   "execution_count": 22,
   "id": "c4f0ddbd",
   "metadata": {},
   "outputs": [
    {
     "name": "stdout",
     "output_type": "stream",
     "text": [
      "4\n"
     ]
    }
   ],
   "source": [
    "print(arr_2d[1,2])"
   ]
  },
  {
   "cell_type": "code",
   "execution_count": 23,
   "id": "6ef9d9f3",
   "metadata": {},
   "outputs": [
    {
     "name": "stdout",
     "output_type": "stream",
     "text": [
      "multi of list  [1, 2, 3, 4, 1, 2, 3, 4]\n"
     ]
    }
   ],
   "source": [
    "list_data = [1,2,3,4]\n",
    "print(\"multi of list \" , list_data*2)"
   ]
  },
  {
   "cell_type": "markdown",
   "id": "e0973297",
   "metadata": {},
   "source": [
    "# array vs list in numpy\n",
    "- operation perform on array's each element but ooperation perform on list(suppose as one element)"
   ]
  },
  {
   "cell_type": "code",
   "execution_count": 25,
   "id": "db282e10",
   "metadata": {},
   "outputs": [
    {
     "name": "stdout",
     "output_type": "stream",
     "text": [
      "multi of array  [24  6  8 10  6  4]\n"
     ]
    }
   ],
   "source": [
    "print(\"multi of array \", arr_1d*2)"
   ]
  },
  {
   "cell_type": "markdown",
   "id": "bc1aa777",
   "metadata": {},
   "source": [
    "# create array\n"
   ]
  },
  {
   "cell_type": "code",
   "execution_count": 54,
   "id": "f6f82317",
   "metadata": {},
   "outputs": [
    {
     "name": "stdout",
     "output_type": "stream",
     "text": [
      "Array of zeros \n",
      " [[0. 0. 0.]\n",
      " [0. 0. 0.]\n",
      " [0. 0. 0.]]\n",
      "arrays of ones \n",
      " [[1. 1. 1.]\n",
      " [1. 1. 1.]\n",
      " [1. 1. 1.]]\n",
      "arrays of constrant matrix \n",
      " [[5 5 5]\n",
      " [5 5 5]\n",
      " [5 5 5]]\n",
      "arrays of random values matrix \n",
      " [[0.51088751 0.73388945 0.03010971]\n",
      " [0.13995257 0.24952475 0.77210455]\n",
      " [0.62527932 0.2610625  0.15671057]]\n",
      "2x2 sequence matrix:\n",
      " [[ 0  2  4]\n",
      " [ 6  8 10]]\n"
     ]
    }
   ],
   "source": [
    "zeros = np.zeros((3,3))\n",
    "print(\"Array of zeros \\n\", zeros)\n",
    "\n",
    "\n",
    "\n",
    "ones = np.ones((3,3))\n",
    "print(\"arrays of ones \\n\",ones)\n",
    "\n",
    "\n",
    "constant_matrix =np.full((3,3),5)\n",
    "print(\"arrays of constrant matrix \\n\",constant_matrix)\n",
    "\n",
    "\n",
    "random_matrix = np.random.random((3,3))\n",
    "print(\"arrays of random values matrix \\n\",random_matrix)\n",
    "\n",
    "sequence_matrix = np.arange(0, 12 , 2).reshape(2, 3) # while reshaping any matrix you have to remember number of generating element == row*col\n",
    "print(\"2x2 sequence matrix:\\n\", sequence_matrix)\n",
    "\n"
   ]
  },
  {
   "cell_type": "markdown",
   "id": "ed910771",
   "metadata": {},
   "source": [
    "# Vector, Array and Tensor\n",
    "\n",
    "## Vector\n",
    "- **Definition:** A vector is a 1D quantity (like a list of numbers).\n",
    "- **In NumPy:** Represented as a 1D array.\n",
    "- **Shape:** `(n,)`\n",
    "  \n",
    "## Array (Matrix if 2D)\n",
    "\n",
    "- **Definition:** General term in NumPy for 2-dimensional data.\n",
    "- **Matrix:** Specifically a 2D array.\n",
    "- **Shape:** (rows, columns)\n",
    "\n",
    "\n",
    "## Tensor\n",
    "- **Definition:** Generalization more than 2 dimensional arrays.\n",
    "- **0D** → scalar (single number)\n",
    "- **1D** → vector\n",
    "- **2D** → matrix\n",
    "- **3D or higher** → tensor"
   ]
  },
  {
   "cell_type": "code",
   "execution_count": 60,
   "id": "9dac180b",
   "metadata": {},
   "outputs": [
    {
     "name": "stdout",
     "output_type": "stream",
     "text": [
      "vector : \n",
      " [1 2 3 4]\n",
      "Array : \n",
      " [[1 2 3 4]\n",
      " [1 2 3 4]]\n",
      "Tensor : \n",
      " [[[1 2 3 4]\n",
      "  [1 2 3 4]]\n",
      "\n",
      " [[1 2 3 4]\n",
      "  [1 2 3 4]]]\n"
     ]
    }
   ],
   "source": [
    "vector = np.array([1,2,3,4])\n",
    "print(\"vector : \\n\", vector)\n",
    "\n",
    "array = np.array([[1,2,3,4],\n",
    "                  [1,2,3,4]])\n",
    "print(\"Array : \\n\", array)\n",
    "\n",
    "tensor = np.array([\n",
    "    [[1,2,3,4],[1,2,3,4]],\n",
    "    [[1,2,3,4],[1,2,3,4]]\n",
    "    ])\n",
    "print(\"Tensor : \\n\", tensor)\n",
    "\n"
   ]
  },
  {
   "cell_type": "markdown",
   "id": "41e36755",
   "metadata": {},
   "source": [
    "# Array Properties"
   ]
  },
  {
   "cell_type": "code",
   "execution_count": 62,
   "id": "838ff32d",
   "metadata": {},
   "outputs": [
    {
     "name": "stdout",
     "output_type": "stream",
     "text": [
      "shape  (2, 4)\n",
      "Dimension  2\n",
      "Size  8\n",
      "Data type  int64\n"
     ]
    }
   ],
   "source": [
    "arr = np.array([\n",
    "    [1,2,3,4],\n",
    "    [1,2,3,4]\n",
    "])\n",
    "\n",
    "print('shape ', arr.shape)\n",
    "print('Dimension ',arr.ndim)\n",
    "print('Size ',arr.size)\n",
    "print(\"Data type \", arr.dtype)"
   ]
  },
  {
   "cell_type": "markdown",
   "id": "a0425bbd",
   "metadata": {},
   "source": [
    "### Array Reshaping"
   ]
  },
  {
   "cell_type": "code",
   "execution_count": 74,
   "id": "7be9229d",
   "metadata": {},
   "outputs": [
    {
     "name": "stdout",
     "output_type": "stream",
     "text": [
      "original array  [ 0  1  2  3  4  5  6  7  8  9 10 11]\n",
      "reshaped array \n",
      " [[ 0  1  2]\n",
      " [ 3  4  5]\n",
      " [ 6  7  8]\n",
      " [ 9 10 11]]\n",
      "flat array  [ 0  1  2  3  4  5  6  7  8  9 10 11]\n",
      "raveled array  [ 0  1  2  3  4  5  6  7  8  9 10 11]\n",
      "Transpose  [[ 0  3  6  9]\n",
      " [ 1  4  7 10]\n",
      " [ 2  5  8 11]]\n"
     ]
    }
   ],
   "source": [
    "arr = np.arange(12)\n",
    "print(\"original array \",arr)\n",
    "\n",
    "reshaped_array = arr.reshape((4,3))\n",
    "print(\"reshaped array \\n\",reshaped_array)\n",
    "\n",
    "print(\"flat array \", reshaped_array.flatten())\n",
    "# ravel (return view, instead of copy)\n",
    "print(\"raveled array \",reshaped_array.ravel())\n",
    "\n",
    "# Transpose\n",
    "\n",
    "print(\"Transpose \",reshaped_array.T)\n"
   ]
  },
  {
   "cell_type": "markdown",
   "id": "e017769c",
   "metadata": {},
   "source": [
    "# Numpy Array operations\n"
   ]
  },
  {
   "cell_type": "code",
   "execution_count": 78,
   "id": "e486ce2a",
   "metadata": {},
   "outputs": [
    {
     "name": "stdout",
     "output_type": "stream",
     "text": [
      "Basic slicing  [2 3 4 5 6]\n",
      "slicing with step  [1 3 5 7]\n",
      "negative indexing  7\n"
     ]
    }
   ],
   "source": [
    "arr = np.array([0,1,2,3,4,5,6,7,8,9])\n",
    "print(\"Basic slicing \",arr[2:7])\n",
    "print(\"slicing with step \", arr[1:8:2])\n",
    "print(\"negative indexing \",arr[-3])"
   ]
  },
  {
   "cell_type": "code",
   "execution_count": 85,
   "id": "2c390a7a",
   "metadata": {},
   "outputs": [
    {
     "name": "stdout",
     "output_type": "stream",
     "text": [
      "[[11 12 13 14]\n",
      " [21 22 23 24]\n",
      " [31 32 33 34]]\n",
      "values at 2nd row 3rd col  23\n",
      "entire 1st row  [11 12 13 14]\n",
      "entire 1st column  [11 21 31]\n"
     ]
    }
   ],
   "source": [
    "arr_2d  = np.array([[11,12,13,14],\n",
    "                    [21,22,23,24],\n",
    "                    [31,32,33,34]])\n",
    "print(arr_2d)\n",
    "\n",
    "\n",
    "print(\"values at 2nd row 3rd col \", arr_2d[1,2])\n",
    "print(\"entire 1st row \",arr_2d[0])\n",
    "print(\"entire 1st column \",arr_2d[:,0])\n"
   ]
  },
  {
   "cell_type": "markdown",
   "id": "81d8413f",
   "metadata": {},
   "source": [
    "## Sorting"
   ]
  },
  {
   "cell_type": "code",
   "execution_count": null,
   "id": "98034a47",
   "metadata": {},
   "outputs": [
    {
     "name": "stdout",
     "output_type": "stream",
     "text": [
      "sorted array \n",
      " [1 2 4 4 5]\n",
      "sorted array(left to right) \n",
      " [[1 2 4 5]\n",
      " [2 4 7 7]\n",
      " [2 3 5 6]]\n",
      "sorted array(top to bottom) \n",
      " [[2 4 2 1]\n",
      " [3 5 2 6]\n",
      " [4 7 5 7]]\n"
     ]
    }
   ],
   "source": [
    "unsorted_1Darray = np.array(\n",
    "    [2,4,5,1,4]\n",
    ")\n",
    "\n",
    "unsorted_2Darray = np.array([\n",
    "    [2,4,5,1],\n",
    "    [4,7,2,7],\n",
    "    [3,5,2,6,]\n",
    "])\n",
    "\n",
    "\n",
    "\n",
    "print(\"sorted array \\n\",np.sort(unsorted_1Darray))\n",
    "\n",
    "print(\"sorted array(left to right) \\n\",np.sort(unsorted_2Darray,axis=1)) #if axis = 1 it will sort left to right and if axis =0 it will sort top to bottom\n",
    "\n",
    "print(\"sorted array(top to bottom) \\n\",np.sort(unsorted_2Darray,axis=0)) #if axis = 1 it will sort left to right and if axis =0 it will sort top to bottom\n",
    "\n",
    "print(unsorted_2Darray[1])\n"
   ]
  },
  {
   "cell_type": "markdown",
   "id": "9557a367",
   "metadata": {},
   "source": [
    "# save array\n"
   ]
  },
  {
   "cell_type": "code",
   "execution_count": 1,
   "id": "b12cfc9b",
   "metadata": {},
   "outputs": [],
   "source": [
    "import matplotlib.pyplot as plt\n"
   ]
  },
  {
   "cell_type": "code",
   "execution_count": 4,
   "id": "4ffbaa06",
   "metadata": {},
   "outputs": [],
   "source": [
    "array1 = np.array([[1, 2, 3], [4, 5, 6]])\n",
    "array2 = np.random.rand(3, 3)\n",
    "array3 = np.zeros((4, 4))\n",
    "\n",
    "\n",
    "\n",
    "np.save('array1.npy', array1)\n",
    "np.save('array2.npy', array2)\n",
    "np.save('array3.npy', array3)"
   ]
  },
  {
   "cell_type": "code",
   "execution_count": 5,
   "id": "664fcaca",
   "metadata": {},
   "outputs": [
    {
     "name": "stdout",
     "output_type": "stream",
     "text": [
      "[[1 2 3]\n",
      " [4 5 6]]\n"
     ]
    }
   ],
   "source": [
    "loaded_array1 = np.load('array1.npy')\n",
    "print(loaded_array1)"
   ]
  },
  {
   "cell_type": "code",
   "execution_count": 6,
   "id": "e18575ee",
   "metadata": {},
   "outputs": [],
   "source": [
    "sales_data = np.array([\n",
    "    [1, 150000, 180000, 220000, 250000],  # Paradise Biryani\n",
    "    [2, 120000, 140000, 160000, 190000],  # Beijing Bites\n",
    "    [3, 200000, 230000, 260000, 300000],  # Pizza Hub\n",
    "    [4, 180000, 210000, 240000, 270000],  # Burger Point\n",
    "    [5, 160000, 185000, 205000, 230000]   # Chai Point\n",
    "])"
   ]
  },
  {
   "cell_type": "code",
   "execution_count": 16,
   "id": "8fdc835b",
   "metadata": {},
   "outputs": [
    {
     "name": "stdout",
     "output_type": "stream",
     "text": [
      "[[150000 330000 550000 800000]\n",
      " [120000 260000 420000 610000]\n",
      " [200000 430000 690000 990000]\n",
      " [180000 390000 630000 900000]\n",
      " [160000 345000 550000 780000]]\n"
     ]
    },
    {
     "data": {
      "image/png": "[encoded data removed]",
      "text/plain": [
       "<Figure size 800x600 with 1 Axes>"
      ]
     },
     "metadata": {},
     "output_type": "display_data"
    }
   ],
   "source": [
    "cumsum = np.cumsum(sales_data[:, 1:], axis=1)\n",
    "print(cumsum)\n",
    "\n",
    "plt.figure(figsize=(8, 6))\n",
    "plt.plot(np.mean(cumsum, axis=0))\n",
    "plt.title(\"Average cumulative sales  \")\n",
    "plt.xlabel(\"Years\")\n",
    "plt.ylabel(\"Sales\")\n",
    "plt.grid(True)\n",
    "plt.show()"
   ]
  }
 ],
 "metadata": {
  "kernelspec": {
   "display_name": "venv",
   "language": "python",
   "name": "python3"
  },
  "language_info": {
   "codemirror_mode": {
    "name": "ipython",
    "version": 3
   },
   "file_extension": ".py",
   "mimetype": "text/x-python",
   "name": "python",
   "nbconvert_exporter": "python",
   "pygments_lexer": "ipython3",
   "version": "3.13.7"
  }
 },
 "nbformat": 4,
 "nbformat_minor": 5
}
