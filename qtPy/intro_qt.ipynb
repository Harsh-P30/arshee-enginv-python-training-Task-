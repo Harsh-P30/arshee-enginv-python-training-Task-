{
 "cells": [
  {
   "cell_type": "code",
   "execution_count": 1,
   "id": "5eb95ff0",
   "metadata": {},
   "outputs": [
    {
     "ename": "SystemExit",
     "evalue": "0",
     "output_type": "error",
     "traceback": [
      "An exception has occurred, use %tb to see the full traceback.\n",
      "\u001b[31mSystemExit\u001b[39m\u001b[31m:\u001b[39m 0\n"
     ]
    },
    {
     "name": "stderr",
     "output_type": "stream",
     "text": [
      "c:\\Desktop\\Python\\NumPy\\venv\\Lib\\site-packages\\IPython\\core\\interactiveshell.py:3707: UserWarning: To exit: use 'exit', 'quit', or Ctrl-D.\n",
      "  warn(\"To exit: use 'exit', 'quit', or Ctrl-D.\", stacklevel=1)\n"
     ]
    }
   ],
   "source": [
    "from PyQt5.QtWidgets import *\n",
    "import sys\n",
    "\n",
    "class GroupBox(QWidget):\n",
    "\n",
    "    def __init__(self):\n",
    "        QWidget.__init__(self)\n",
    "\n",
    "        self.setWindowTitle(\"GroupBox\")\n",
    "        layout = QGridLayout()\n",
    "        self.setLayout(layout)\n",
    "\n",
    "        groupbox = QGroupBox(\"GroupBox Example\")\n",
    "        groupbox.setCheckable(True)\n",
    "        layout.addWidget(groupbox)\n",
    "        \n",
    "        vbox = QVBoxLayout()\n",
    "        groupbox.setLayout(vbox)\n",
    "\n",
    "        radiobutton = QRadioButton(\"RadioButton 1\")\n",
    "        vbox.addWidget(radiobutton)\n",
    "        \n",
    "        radiobutton = QRadioButton(\"RadioButton 2\")\n",
    "        vbox.addWidget(radiobutton)\n",
    "\n",
    "        radiobutton = QRadioButton(\"RadioButton 3\")\n",
    "        vbox.addWidget(radiobutton)\n",
    "\n",
    "        radiobutton = QRadioButton(\"RadioButton 4\")\n",
    "        vbox.addWidget(radiobutton)\n",
    "        \n",
    "        \n",
    "app = QApplication(sys.argv)\n",
    "screen = GroupBox()\n",
    "screen.show()\n",
    "sys.exit(app.exec_())"
   ]
  }
 ],
 "metadata": {
  "kernelspec": {
   "display_name": "venv",
   "language": "python",
   "name": "python3"
  },
  "language_info": {
   "codemirror_mode": {
    "name": "ipython",
    "version": 3
   },
   "file_extension": ".py",
   "mimetype": "text/x-python",
   "name": "python",
   "nbconvert_exporter": "python",
   "pygments_lexer": "ipython3",
   "version": "3.13.7"
  }
 },
 "nbformat": 4,
 "nbformat_minor": 5
}
